{
 "cells": [
  {
   "cell_type": "markdown",
   "metadata": {},
   "source": [
    "### Objective:\n",
    "- Evaluate Conversion Rate metric\n",
    "- Build a model that can predict conversion rate\n",
    "- Derive ideas to improve revenue"
   ]
  },
  {
   "cell_type": "markdown",
   "metadata": {},
   "source": [
    "## 1. Data Preparation"
   ]
  },
  {
   "cell_type": "code",
   "execution_count": 1,
   "metadata": {},
   "outputs": [],
   "source": [
    "# Import the necessary libraries\n",
    "\n",
    "# Import pandas and numpy\n",
    "import numpy as np\n",
    "import pandas as pd\n",
    "\n",
    "# Import seaborn and matplotlib  -> graphics\n",
    "import matplotlib.pyplot as plt\n",
    "import seaborn as sns\n",
    "\n",
    "# I will import the necessary sklearn modules later"
   ]
  },
  {
   "cell_type": "code",
   "execution_count": 2,
   "metadata": {},
   "outputs": [],
   "source": [
    "# Import the raw data using read_csv\n",
    "df = pd.read_csv('conversion_data.csv')"
   ]
  },
  {
   "cell_type": "code",
   "execution_count": 3,
   "metadata": {},
   "outputs": [
    {
     "name": "stdout",
     "output_type": "stream",
     "text": [
      "<class 'pandas.core.frame.DataFrame'>\n",
      "RangeIndex: 316200 entries, 0 to 316199\n",
      "Data columns (total 6 columns):\n",
      " #   Column               Non-Null Count   Dtype \n",
      "---  ------               --------------   ----- \n",
      " 0   country              316200 non-null  object\n",
      " 1   age                  316200 non-null  int64 \n",
      " 2   new_user             316200 non-null  int64 \n",
      " 3   source               316200 non-null  object\n",
      " 4   total_pages_visited  316200 non-null  int64 \n",
      " 5   converted            316200 non-null  int64 \n",
      "dtypes: int64(4), object(2)\n",
      "memory usage: 14.5+ MB\n"
     ]
    }
   ],
   "source": [
    "df.info() # check data quality"
   ]
  },
  {
   "cell_type": "markdown",
   "metadata": {},
   "source": [
    "According to the information provided, all columns are categorical data except age and total_pages_visited. Let's start by evaluating the conversion rate: #_conversions / total_sessions.\n",
    "\n",
    "However, before doing so, I need to make sure the values are realisitic in each category."
   ]
  },
  {
   "cell_type": "code",
   "execution_count": 4,
   "metadata": {},
   "outputs": [
    {
     "data": {
      "text/html": [
       "<div>\n",
       "<style scoped>\n",
       "    .dataframe tbody tr th:only-of-type {\n",
       "        vertical-align: middle;\n",
       "    }\n",
       "\n",
       "    .dataframe tbody tr th {\n",
       "        vertical-align: top;\n",
       "    }\n",
       "\n",
       "    .dataframe thead th {\n",
       "        text-align: right;\n",
       "    }\n",
       "</style>\n",
       "<table border=\"1\" class=\"dataframe\">\n",
       "  <thead>\n",
       "    <tr style=\"text-align: right;\">\n",
       "      <th></th>\n",
       "      <th>age</th>\n",
       "      <th>new_user</th>\n",
       "      <th>total_pages_visited</th>\n",
       "      <th>converted</th>\n",
       "    </tr>\n",
       "  </thead>\n",
       "  <tbody>\n",
       "    <tr>\n",
       "      <th>count</th>\n",
       "      <td>316200.000000</td>\n",
       "      <td>316200.000000</td>\n",
       "      <td>316200.000000</td>\n",
       "      <td>316200.000000</td>\n",
       "    </tr>\n",
       "    <tr>\n",
       "      <th>mean</th>\n",
       "      <td>30.569858</td>\n",
       "      <td>0.685465</td>\n",
       "      <td>4.872966</td>\n",
       "      <td>0.032258</td>\n",
       "    </tr>\n",
       "    <tr>\n",
       "      <th>std</th>\n",
       "      <td>8.271802</td>\n",
       "      <td>0.464331</td>\n",
       "      <td>3.341104</td>\n",
       "      <td>0.176685</td>\n",
       "    </tr>\n",
       "    <tr>\n",
       "      <th>min</th>\n",
       "      <td>17.000000</td>\n",
       "      <td>0.000000</td>\n",
       "      <td>1.000000</td>\n",
       "      <td>0.000000</td>\n",
       "    </tr>\n",
       "    <tr>\n",
       "      <th>25%</th>\n",
       "      <td>24.000000</td>\n",
       "      <td>0.000000</td>\n",
       "      <td>2.000000</td>\n",
       "      <td>0.000000</td>\n",
       "    </tr>\n",
       "    <tr>\n",
       "      <th>50%</th>\n",
       "      <td>30.000000</td>\n",
       "      <td>1.000000</td>\n",
       "      <td>4.000000</td>\n",
       "      <td>0.000000</td>\n",
       "    </tr>\n",
       "    <tr>\n",
       "      <th>75%</th>\n",
       "      <td>36.000000</td>\n",
       "      <td>1.000000</td>\n",
       "      <td>7.000000</td>\n",
       "      <td>0.000000</td>\n",
       "    </tr>\n",
       "    <tr>\n",
       "      <th>max</th>\n",
       "      <td>123.000000</td>\n",
       "      <td>1.000000</td>\n",
       "      <td>29.000000</td>\n",
       "      <td>1.000000</td>\n",
       "    </tr>\n",
       "  </tbody>\n",
       "</table>\n",
       "</div>"
      ],
      "text/plain": [
       "                 age       new_user  total_pages_visited      converted\n",
       "count  316200.000000  316200.000000        316200.000000  316200.000000\n",
       "mean       30.569858       0.685465             4.872966       0.032258\n",
       "std         8.271802       0.464331             3.341104       0.176685\n",
       "min        17.000000       0.000000             1.000000       0.000000\n",
       "25%        24.000000       0.000000             2.000000       0.000000\n",
       "50%        30.000000       1.000000             4.000000       0.000000\n",
       "75%        36.000000       1.000000             7.000000       0.000000\n",
       "max       123.000000       1.000000            29.000000       1.000000"
      ]
     },
     "execution_count": 4,
     "metadata": {},
     "output_type": "execute_result"
    }
   ],
   "source": [
    "df.describe()\n",
    "# Use describe to get summary statistics\n",
    "# but here we can only get summary statistics of Dtype = int64"
   ]
  },
  {
   "cell_type": "markdown",
   "metadata": {},
   "source": [
    "max(age) = 123 is really abnormal"
   ]
  },
  {
   "cell_type": "code",
   "execution_count": 5,
   "metadata": {},
   "outputs": [
    {
     "name": "stdout",
     "output_type": "stream",
     "text": [
      "['UK' 'US' 'China' 'Germany']\n",
      "['Ads' 'Seo' 'Direct']\n"
     ]
    }
   ],
   "source": [
    "# So we need to check information of categorical columns\n",
    "# Here we use unique\n",
    "print(df['country'].unique())\n",
    "print(df['source'].unique())"
   ]
  },
  {
   "cell_type": "markdown",
   "metadata": {},
   "source": [
    "#### summary statistics Conclusion:\n",
    "- Despite the max age likely being an anamoly, the remainder of the numerical columns consists of values that are within expectations. \n",
    "- Additionally, the values in the categorical columns are also within expectations."
   ]
  },
  {
   "cell_type": "markdown",
   "metadata": {},
   "source": [
    "## 2. Basic Analytics"
   ]
  },
  {
   "cell_type": "markdown",
   "metadata": {},
   "source": [
    "#### Basic Knowledge"
   ]
  },
  {
   "cell_type": "code",
   "execution_count": 6,
   "metadata": {},
   "outputs": [
    {
     "name": "stdout",
     "output_type": "stream",
     "text": [
      "Total Conversion Rate: 3.23%\n"
     ]
    }
   ],
   "source": [
    "# count convertion rate\n",
    "conversion_rate = df['converted'].sum() / len(df)\n",
    "print ('Total Conversion Rate: {:.2f}%'.format(conversion_rate * 100))   "
   ]
  },
  {
   "cell_type": "markdown",
   "metadata": {},
   "source": [
    "From this point, I'm going to evaluate the conversion rate across values within particular categories. I will provide visualizations for all of them (bar plots from seaborn). By doing so, I hope to isolate values that perform particularly well in terms of conversion rate. I will also take note of the occurrence of each value as that creates a weight to the importance of the value.\n",
    "\n",
    "To ease the calculations later on, I will create a count column filled with 1's to yield the total occurrence of each value."
   ]
  },
  {
   "cell_type": "code",
   "execution_count": 7,
   "metadata": {},
   "outputs": [],
   "source": [
    "# Create a count column filled with 1's\n",
    "# then 1 row represents 1\n",
    "df['count'] = 1"
   ]
  },
  {
   "cell_type": "code",
   "execution_count": 8,
   "metadata": {},
   "outputs": [
    {
     "data": {
      "text/html": [
       "<div>\n",
       "<style scoped>\n",
       "    .dataframe tbody tr th:only-of-type {\n",
       "        vertical-align: middle;\n",
       "    }\n",
       "\n",
       "    .dataframe tbody tr th {\n",
       "        vertical-align: top;\n",
       "    }\n",
       "\n",
       "    .dataframe thead th {\n",
       "        text-align: right;\n",
       "    }\n",
       "</style>\n",
       "<table border=\"1\" class=\"dataframe\">\n",
       "  <thead>\n",
       "    <tr style=\"text-align: right;\">\n",
       "      <th></th>\n",
       "      <th>converted</th>\n",
       "      <th>count</th>\n",
       "      <th>total_percentage</th>\n",
       "      <th>conversion_rate</th>\n",
       "    </tr>\n",
       "    <tr>\n",
       "      <th>age</th>\n",
       "      <th></th>\n",
       "      <th></th>\n",
       "      <th></th>\n",
       "      <th></th>\n",
       "    </tr>\n",
       "  </thead>\n",
       "  <tbody>\n",
       "    <tr>\n",
       "      <th>17</th>\n",
       "      <td>544</td>\n",
       "      <td>7597</td>\n",
       "      <td>0.024026</td>\n",
       "      <td>0.071607</td>\n",
       "    </tr>\n",
       "    <tr>\n",
       "      <th>18</th>\n",
       "      <td>559</td>\n",
       "      <td>8466</td>\n",
       "      <td>0.026774</td>\n",
       "      <td>0.066029</td>\n",
       "    </tr>\n",
       "    <tr>\n",
       "      <th>19</th>\n",
       "      <td>548</td>\n",
       "      <td>9349</td>\n",
       "      <td>0.029567</td>\n",
       "      <td>0.058616</td>\n",
       "    </tr>\n",
       "    <tr>\n",
       "      <th>20</th>\n",
       "      <td>580</td>\n",
       "      <td>10156</td>\n",
       "      <td>0.032119</td>\n",
       "      <td>0.057109</td>\n",
       "    </tr>\n",
       "    <tr>\n",
       "      <th>21</th>\n",
       "      <td>592</td>\n",
       "      <td>10966</td>\n",
       "      <td>0.034681</td>\n",
       "      <td>0.053985</td>\n",
       "    </tr>\n",
       "  </tbody>\n",
       "</table>\n",
       "</div>"
      ],
      "text/plain": [
       "     converted  count  total_percentage  conversion_rate\n",
       "age                                                     \n",
       "17         544   7597          0.024026         0.071607\n",
       "18         559   8466          0.026774         0.066029\n",
       "19         548   9349          0.029567         0.058616\n",
       "20         580  10156          0.032119         0.057109\n",
       "21         592  10966          0.034681         0.053985"
      ]
     },
     "execution_count": 8,
     "metadata": {},
     "output_type": "execute_result"
    }
   ],
   "source": [
    "# Note for create_df\n",
    "new_df = df.groupby('age').agg({'converted':sum,'count':sum})\n",
    "new_df['total_percentage'] = new_df['count']/new_df['count'].sum() \n",
    "# num of each age / total rows -> 7597/316200 = 0.024026\n",
    "new_df['conversion_rate'] = new_df['converted'] / new_df['count']\n",
    "# 544 / 7597 = 0.071607\n",
    "new_df.head(5)\n",
    "# this is explanation of 2 defition below\n",
    "# if cat = age, then we group by age, and count num of converted = 1 and total num"
   ]
  },
  {
   "cell_type": "code",
   "execution_count": 9,
   "metadata": {},
   "outputs": [
    {
     "data": {
      "image/png": "[encoded data removed]",
      "text/plain": [
       "<Figure size 864x576 with 2 Axes>"
      ]
     },
     "metadata": {
      "needs_background": "light"
     },
     "output_type": "display_data"
    }
   ],
   "source": [
    "# Note for create_plots\n",
    "fig, ax = plt.subplots(nrows=2, figsize=(12,8))\n",
    "# nrows=2 -> 2 rows\n",
    "# figsize=(12,8) -> length: 12; width: 8"
   ]
  },
  {
   "cell_type": "markdown",
   "metadata": {},
   "source": [
    "#### Analytics - Single Metric\n",
    "- Check distribution of each metric and observe metric healthy"
   ]
  },
  {
   "cell_type": "code",
   "execution_count": 10,
   "metadata": {},
   "outputs": [],
   "source": [
    "# Define a function create_df that will create a new dataframe with the conversion rate according to the groupings\n",
    "def create_df(cat):\n",
    "    '''Group the data by the [cat]'''\n",
    "    new_df = df.groupby(cat).agg({'converted':sum, 'count':sum})\n",
    "    new_df['total_percentage'] = new_df['count'] / new_df['count'].sum()\n",
    "    #     new_df['count'] / new_df['count'].sum  -> num of this row / total rows\n",
    "    new_df['conversion_rate'] = new_df['converted'] / new_df['count']\n",
    "    #     num of converted of each row / num of count of each row -> for one group, its conversion rate\n",
    "    return new_df\n",
    "\n",
    "# Define a function create_plots to create barplots according to the provided dataframe\n",
    "def create_plots(df):\n",
    "    '''Plot barplots and histograms for conversion rate and ditribution \n",
    "    given the dataframe'''\n",
    "    fig, ax = plt.subplots(nrows=2, figsize=(12,8))\n",
    "    \n",
    "#     plot the distribution -> bar chart\n",
    "    sns.barplot(x=df.index, y='count', data=df, ax=ax[0])\n",
    "    \n",
    "#     plot the conversion rate\n",
    "    sns.barplot(x=df.index, y='conversion_rate', data=df, ax=ax[1])\n",
    "    \n",
    "    plt.tight_layout()"
   ]
  },
  {
   "cell_type": "markdown",
   "metadata": {},
   "source": [
    "###### 1. Country"
   ]
  },
  {
   "cell_type": "code",
   "execution_count": 11,
   "metadata": {},
   "outputs": [
    {
     "name": "stdout",
     "output_type": "stream",
     "text": [
      "         converted   count  total_percentage  conversion_rate\n",
      "country                                                      \n",
      "China          102   76602          0.242258         0.001332\n",
      "Germany        816   13056          0.041290         0.062500\n",
      "UK            2550   48450          0.153226         0.052632\n",
      "US            6732  178092          0.563226         0.037801\n"
     ]
    },
    {
     "data": {
      "image/png": "[encoded data removed]",
      "text/plain": [
       "<Figure size 864x576 with 2 Axes>"
      ]
     },
     "metadata": {
      "needs_background": "light"
     },
     "output_type": "display_data"
    }
   ],
   "source": [
    "# create a country dataframe with 2 definition above\n",
    "country_df = create_df('country')\n",
    "\n",
    "print(country_df)\n",
    "\n",
    "# plot the country distribution and conversion rates\n",
    "create_plots(country_df)"
   ]
  },
  {
   "cell_type": "markdown",
   "metadata": {},
   "source": [
    "Despite China's fairly high count (24% of total), it has the lowest conversion rate. It seems that site has very poor performance in China. In comparison, Germany and UK have very high performances, but Germany has a very low occurrence (4% of total)."
   ]
  },
  {
   "cell_type": "markdown",
   "metadata": {},
   "source": [
    "###### 2. Age\n",
    "- Because Age range is from 17 - 123, we cannot use bar chart to describe the distribution\n",
    "- so here we choose regresion distribution"
   ]
  },
  {
   "cell_type": "code",
   "execution_count": 12,
   "metadata": {},
   "outputs": [
    {
     "data": {
      "image/png": "[encoded data removed]",
      "text/plain": [
       "<Figure size 432x288 with 1 Axes>"
      ]
     },
     "metadata": {
      "needs_background": "light"
     },
     "output_type": "display_data"
    }
   ],
   "source": [
    "# Create an age dataframe\n",
    "age_df = create_df('age').reset_index() \n",
    "# without reset_index(), the index would be age\n",
    "# with reset_index() , the index would 0,1,2...\n",
    "\n",
    "\n",
    "# # Plot the country distribution\n",
    "# fig, ax = plt.subplots(nrows=2, figsize=(12,8))\n",
    "\n",
    "# # Plot the distribution\n",
    "# sns.barplot(x=age_df.index, y='count', data=age_df, ax=ax[0])\n",
    "\n",
    "# Plot the scatterplot for conversion rate\n",
    "sns.regplot(x=age_df['age'], y=age_df['conversion_rate'])\n",
    "\n",
    "plt.tight_layout()\n"
   ]
  },
  {
   "cell_type": "markdown",
   "metadata": {},
   "source": [
    "It appears the two entries where age > 100 have 100% conversion rates. This causes a skew in the trend of the data. As a result, I will remove those two points from my visualizations to better provide a general trend."
   ]
  },
  {
   "cell_type": "code",
   "execution_count": 13,
   "metadata": {},
   "outputs": [
    {
     "data": {
      "image/png": "[encoded data removed]",
      "text/plain": [
       "<Figure size 864x576 with 2 Axes>"
      ]
     },
     "metadata": {
      "needs_background": "light"
     },
     "output_type": "display_data"
    }
   ],
   "source": [
    "# Plot the age distribution\n",
    "fig, ax = plt.subplots(nrows=2, figsize=(12,8))\n",
    "\n",
    "# Plot the distribution\n",
    "sns.barplot(x='age', y='count', data=age_df, ax=ax[0], color='b')\n",
    "\n",
    "# Plot the scatterplot for conversion rate\n",
    "sns.regplot(x='age', y='conversion_rate', data=age_df[age_df['age'] < 100], ax=ax[1])\n",
    "\n",
    "plt.tight_layout()\n",
    "\n",
    "# age_plot = age_df[age_df['age'] < 100]"
   ]
  },
  {
   "cell_type": "code",
   "execution_count": 14,
   "metadata": {},
   "outputs": [
    {
     "name": "stdout",
     "output_type": "stream",
     "text": [
      "0.8506388361796331\n"
     ]
    }
   ],
   "source": [
    "print (age_df.loc[(age_df['age'] < 40), 'count'].sum() / age_df['count'].sum())\n",
    "# from bar chart, we notice most people are under 40 years old\n",
    "# but here we try to count % of people under 40 years old"
   ]
  },
  {
   "cell_type": "markdown",
   "metadata": {},
   "source": [
    "Most of the data (85%) occurs within the 17 - 40 age range. The conversion rates in relation to age appear similar to a negative exponential（指数） or negative logarithmic graph（对数）. There is a visible decline in conversion rates as age increases, but this decline plateaus around age 58."
   ]
  },
  {
   "cell_type": "markdown",
   "metadata": {},
   "source": [
    "###### 3. New Users?"
   ]
  },
  {
   "cell_type": "code",
   "execution_count": 15,
   "metadata": {},
   "outputs": [
    {
     "name": "stdout",
     "output_type": "stream",
     "text": [
      "          converted   count  total_percentage  conversion_rate\n",
      "new_user                                                      \n",
      "0              7161   99456          0.314535         0.072002\n",
      "1              3039  216744          0.685465         0.014021\n"
     ]
    },
    {
     "data": {
      "image/png": "[encoded data removed]",
      "text/plain": [
       "<Figure size 864x576 with 2 Axes>"
      ]
     },
     "metadata": {
      "needs_background": "light"
     },
     "output_type": "display_data"
    }
   ],
   "source": [
    "# Create a new user dataframe\n",
    "new_user_df = create_df('new_user')\n",
    "\n",
    "print (new_user_df)\n",
    "\n",
    "# Plot the new user distribution and conversion rates\n",
    "create_plots(new_user_df)"
   ]
  },
  {
   "cell_type": "markdown",
   "metadata": {},
   "source": [
    "There is a much higher conversion with users that have already have an account. However, users without accounts make an a majority of the website traffic."
   ]
  },
  {
   "cell_type": "markdown",
   "metadata": {},
   "source": [
    "###### 4. Source"
   ]
  },
  {
   "cell_type": "code",
   "execution_count": 16,
   "metadata": {},
   "outputs": [
    {
     "name": "stdout",
     "output_type": "stream",
     "text": [
      "        converted   count  total_percentage  conversion_rate\n",
      "source                                                      \n",
      "Ads          3060   88740          0.280645         0.034483\n",
      "Direct       2040   72420          0.229032         0.028169\n",
      "Seo          5100  155040          0.490323         0.032895\n"
     ]
    },
    {
     "data": {
      "image/png": "[encoded data removed]",
      "text/plain": [
       "<Figure size 864x576 with 2 Axes>"
      ]
     },
     "metadata": {
      "needs_background": "light"
     },
     "output_type": "display_data"
    }
   ],
   "source": [
    "# Create a source dataframe\n",
    "source_df = create_df('source')\n",
    "\n",
    "print (source_df)\n",
    "\n",
    "# Plot the source distribution and conversion rates\n",
    "create_plots(source_df)"
   ]
  },
  {
   "cell_type": "markdown",
   "metadata": {},
   "source": [
    "The higher conversion rates occur via users that arrive to the site via advertisements or search results. Most of the traffic comes via search results."
   ]
  },
  {
   "cell_type": "markdown",
   "metadata": {},
   "source": [
    "###### 5. Total Page Visit"
   ]
  },
  {
   "cell_type": "code",
   "execution_count": 17,
   "metadata": {},
   "outputs": [
    {
     "data": {
      "text/plain": [
       "<AxesSubplot:xlabel='total_pages_visited', ylabel='conversion_rate'>"
      ]
     },
     "execution_count": 17,
     "metadata": {},
     "output_type": "execute_result"
    },
    {
     "data": {
      "image/png": "[encoded data removed]",
      "text/plain": [
       "<Figure size 864x576 with 2 Axes>"
      ]
     },
     "metadata": {
      "needs_background": "light"
     },
     "output_type": "display_data"
    }
   ],
   "source": [
    "# Create a Total Page Visit dataframe\n",
    "pages_df = create_df('total_pages_visited').reset_index()\n",
    "\n",
    "fig, ax = plt.subplots(nrows=2, figsize=(12,8))\n",
    "\n",
    "# Plot the distribution\n",
    "sns.barplot(x='total_pages_visited', y='count', data=pages_df, ax=ax[0], color='b')\n",
    "\n",
    "# Plot the conversion rates on the scatter plot\n",
    "sns.regplot(x='total_pages_visited', y='conversion_rate', data=pages_df, ax=ax[1])"
   ]
  },
  {
   "cell_type": "markdown",
   "metadata": {},
   "source": [
    "A majority of the entries visit less than 10 pages. For the conversion rate, there appears to be a sigmoid relationship between conversion rate and total_pages_visited."
   ]
  },
  {
   "cell_type": "markdown",
   "metadata": {},
   "source": [
    "Summary:\n",
    "\n",
    "- China has very low performance whereas Germany has very high conversion rates (Germany > UK > USA > China). -> Actionable\n",
    "- There is a negative correlation between age and conversion rates (graph shows a negative exponential or negative logarithmic relationship). -> Actionable\n",
    "- Users with accounts are more likely to make a purchase (convert). -> Actionable\n",
    "- Most traffic is derived from search results. Ads and search results have higher conversion rates than direct traffic. -> Actionable\n",
    "- There is a positive correlation between number of pages visited and conversion rates (graph shows a sigmoid relationship, plateauing at ~16 pages) -> Not actionable.\n",
    "\n",
    "Since I don't believe we can efficiently change the number of pages a user visits, I don't believe that correlation can be acted on. Additionally, targetting users without an account is also inefficient since users who have an account have likely made a past purchase (to make a purchase, you need to make an account).\n",
    "\n",
    "Before I make my suggestions, I'd like to do further analysis with the performance of different sources across different countries."
   ]
  },
  {
   "cell_type": "markdown",
   "metadata": {},
   "source": [
    "#### Analytics - Multiple Metrics"
   ]
  },
  {
   "cell_type": "code",
   "execution_count": 18,
   "metadata": {},
   "outputs": [
    {
     "data": {
      "text/html": [
       "<div>\n",
       "<style scoped>\n",
       "    .dataframe tbody tr th:only-of-type {\n",
       "        vertical-align: middle;\n",
       "    }\n",
       "\n",
       "    .dataframe tbody tr th {\n",
       "        vertical-align: top;\n",
       "    }\n",
       "\n",
       "    .dataframe thead th {\n",
       "        text-align: right;\n",
       "    }\n",
       "</style>\n",
       "<table border=\"1\" class=\"dataframe\">\n",
       "  <thead>\n",
       "    <tr style=\"text-align: right;\">\n",
       "      <th></th>\n",
       "      <th>country</th>\n",
       "      <th>source</th>\n",
       "      <th>converted</th>\n",
       "      <th>count</th>\n",
       "      <th>total_percentage</th>\n",
       "      <th>conversion_rate</th>\n",
       "    </tr>\n",
       "  </thead>\n",
       "  <tbody>\n",
       "    <tr>\n",
       "      <th>0</th>\n",
       "      <td>China</td>\n",
       "      <td>Ads</td>\n",
       "      <td>32</td>\n",
       "      <td>21561</td>\n",
       "      <td>0.068188</td>\n",
       "      <td>0.001484</td>\n",
       "    </tr>\n",
       "    <tr>\n",
       "      <th>1</th>\n",
       "      <td>China</td>\n",
       "      <td>Direct</td>\n",
       "      <td>24</td>\n",
       "      <td>17463</td>\n",
       "      <td>0.055228</td>\n",
       "      <td>0.001374</td>\n",
       "    </tr>\n",
       "    <tr>\n",
       "      <th>2</th>\n",
       "      <td>China</td>\n",
       "      <td>Seo</td>\n",
       "      <td>46</td>\n",
       "      <td>37578</td>\n",
       "      <td>0.118843</td>\n",
       "      <td>0.001224</td>\n",
       "    </tr>\n",
       "    <tr>\n",
       "      <th>3</th>\n",
       "      <td>Germany</td>\n",
       "      <td>Ads</td>\n",
       "      <td>251</td>\n",
       "      <td>3760</td>\n",
       "      <td>0.011891</td>\n",
       "      <td>0.066755</td>\n",
       "    </tr>\n",
       "    <tr>\n",
       "      <th>4</th>\n",
       "      <td>Germany</td>\n",
       "      <td>Direct</td>\n",
       "      <td>153</td>\n",
       "      <td>2864</td>\n",
       "      <td>0.009058</td>\n",
       "      <td>0.053422</td>\n",
       "    </tr>\n",
       "    <tr>\n",
       "      <th>5</th>\n",
       "      <td>Germany</td>\n",
       "      <td>Seo</td>\n",
       "      <td>412</td>\n",
       "      <td>6432</td>\n",
       "      <td>0.020342</td>\n",
       "      <td>0.064055</td>\n",
       "    </tr>\n",
       "    <tr>\n",
       "      <th>6</th>\n",
       "      <td>UK</td>\n",
       "      <td>Ads</td>\n",
       "      <td>752</td>\n",
       "      <td>13518</td>\n",
       "      <td>0.042751</td>\n",
       "      <td>0.055630</td>\n",
       "    </tr>\n",
       "    <tr>\n",
       "      <th>7</th>\n",
       "      <td>UK</td>\n",
       "      <td>Direct</td>\n",
       "      <td>515</td>\n",
       "      <td>11131</td>\n",
       "      <td>0.035202</td>\n",
       "      <td>0.046267</td>\n",
       "    </tr>\n",
       "    <tr>\n",
       "      <th>8</th>\n",
       "      <td>UK</td>\n",
       "      <td>Seo</td>\n",
       "      <td>1283</td>\n",
       "      <td>23801</td>\n",
       "      <td>0.075272</td>\n",
       "      <td>0.053905</td>\n",
       "    </tr>\n",
       "    <tr>\n",
       "      <th>9</th>\n",
       "      <td>US</td>\n",
       "      <td>Ads</td>\n",
       "      <td>2025</td>\n",
       "      <td>49901</td>\n",
       "      <td>0.157815</td>\n",
       "      <td>0.040580</td>\n",
       "    </tr>\n",
       "    <tr>\n",
       "      <th>10</th>\n",
       "      <td>US</td>\n",
       "      <td>Direct</td>\n",
       "      <td>1348</td>\n",
       "      <td>40962</td>\n",
       "      <td>0.129545</td>\n",
       "      <td>0.032909</td>\n",
       "    </tr>\n",
       "    <tr>\n",
       "      <th>11</th>\n",
       "      <td>US</td>\n",
       "      <td>Seo</td>\n",
       "      <td>3359</td>\n",
       "      <td>87229</td>\n",
       "      <td>0.275867</td>\n",
       "      <td>0.038508</td>\n",
       "    </tr>\n",
       "  </tbody>\n",
       "</table>\n",
       "</div>"
      ],
      "text/plain": [
       "    country  source  converted  count  total_percentage  conversion_rate\n",
       "0     China     Ads         32  21561          0.068188         0.001484\n",
       "1     China  Direct         24  17463          0.055228         0.001374\n",
       "2     China     Seo         46  37578          0.118843         0.001224\n",
       "3   Germany     Ads        251   3760          0.011891         0.066755\n",
       "4   Germany  Direct        153   2864          0.009058         0.053422\n",
       "5   Germany     Seo        412   6432          0.020342         0.064055\n",
       "6        UK     Ads        752  13518          0.042751         0.055630\n",
       "7        UK  Direct        515  11131          0.035202         0.046267\n",
       "8        UK     Seo       1283  23801          0.075272         0.053905\n",
       "9        US     Ads       2025  49901          0.157815         0.040580\n",
       "10       US  Direct       1348  40962          0.129545         0.032909\n",
       "11       US     Seo       3359  87229          0.275867         0.038508"
      ]
     },
     "execution_count": 18,
     "metadata": {},
     "output_type": "execute_result"
    }
   ],
   "source": [
    "# Create a dataframe with the country and source \n",
    "country_source_df = create_df(['country', 'source']).reset_index()\n",
    "\n",
    "country_source_df"
   ]
  },
  {
   "cell_type": "code",
   "execution_count": 19,
   "metadata": {},
   "outputs": [
    {
     "data": {
      "text/plain": [
       "<AxesSubplot:xlabel='source', ylabel='conversion_rate'>"
      ]
     },
     "execution_count": 19,
     "metadata": {},
     "output_type": "execute_result"
    },
    {
     "data": {
      "image/png": "[encoded data removed]",
      "text/plain": [
       "<Figure size 864x576 with 2 Axes>"
      ]
     },
     "metadata": {
      "needs_background": "light"
     },
     "output_type": "display_data"
    }
   ],
   "source": [
    "fig, ax = plt.subplots(nrows=2, figsize=(12,8))\n",
    "\n",
    "# Plot the distribution\n",
    "sns.barplot(x='source', y='count', hue='country', data=country_source_df, ax=ax[0])\n",
    "\n",
    "# Plot the conversion rates\n",
    "sns.barplot(x='source', y='conversion_rate', hue='country', data=country_source_df, ax=ax[1])"
   ]
  },
  {
   "cell_type": "markdown",
   "metadata": {},
   "source": [
    "Despite fair amount of traffic from China, China has poor conversion rates across all site traffic sources. In comparison, Germany and UK have low volumes of traffic, but higher conversion rates."
   ]
  },
  {
   "cell_type": "markdown",
   "metadata": {},
   "source": [
    "#### Suggestions:\n",
    "- Target younger age groups (there is a negative correlation between age and conversion rates)\n",
    "- Redistribute advertisements or efforts to increase social media presence to address higher performing countries (particularly Germany and UK). Note that US performs around the average conversion rate.\n",
    "- Focus more efforts into users with accounts."
   ]
  },
  {
   "cell_type": "markdown",
   "metadata": {},
   "source": [
    "## 3. Let's create the classification model to predict the conversion."
   ]
  },
  {
   "cell_type": "markdown",
   "metadata": {},
   "source": [
    "- From conversion, I can generate conversion rates.\n",
    "\n",
    "- Before creating the model, I will remove the two outlier ages to improve model performance."
   ]
  },
  {
   "cell_type": "code",
   "execution_count": 20,
   "metadata": {},
   "outputs": [],
   "source": [
    "# Import train_test_split\n",
    "from sklearn.model_selection import train_test_split\n",
    "\n",
    "# Import Random Forest Classifier\n",
    "from sklearn.ensemble import RandomForestClassifier\n",
    "\n",
    "# Import labelencoder\n",
    "from sklearn.preprocessing import LabelEncoder\n",
    "\n",
    "# Import roc_auc_curve\n",
    "from sklearn.metrics import roc_auc_score"
   ]
  },
  {
   "cell_type": "markdown",
   "metadata": {},
   "source": [
    "#### 1. Basic Test"
   ]
  },
  {
   "cell_type": "code",
   "execution_count": 21,
   "metadata": {},
   "outputs": [],
   "source": [
    "# Use LabelEncoder on the categorical columns\n",
    "processed_df = df[df['age'] < 110].copy()\n",
    "\n",
    "# Define the numerical columns\n",
    "NUMERICAL = ['age', 'total_pages_visited']\n",
    "\n",
    "# Define the categorical columns\n",
    "CATEGORICAL = ['country', 'new_user', 'source']"
   ]
  },
  {
   "cell_type": "code",
   "execution_count": 22,
   "metadata": {},
   "outputs": [],
   "source": [
    "# Apply LabelEncoder to the categorical variables with text\n",
    "for col in ['country', 'source']:\n",
    "    processed_df[col] = LabelEncoder().fit_transform(processed_df[col])\n",
    "#     we give 4 country and 3 source a label (0,1,2) instead of categorical variables itself"
   ]
  },
  {
   "cell_type": "code",
   "execution_count": 23,
   "metadata": {},
   "outputs": [],
   "source": [
    "# Define the X and y data\n",
    "test_X = processed_df.drop(['count', 'converted'], axis=1) \n",
    "# we choose all metrics as Independent variable except count and converted\n",
    "# axis = 1 -> drop this column\n",
    "\n",
    "test_y = processed_df['converted'] # we choose converted as dependent variable\n",
    "\n",
    "# Split the test and training data\n",
    "# we have imported train_test_split function from sklearn\n",
    "test_X_train, test_X_test, test_y_train, test_y_test = train_test_split(test_X, test_y, test_size=0.2, random_state=123)\n",
    "\n",
    "# why we use random_state? -> https://www.jianshu.com/p/4deb2cb2502f"
   ]
  },
  {
   "cell_type": "code",
   "execution_count": 24,
   "metadata": {},
   "outputs": [],
   "source": [
    "rf = RandomForestClassifier(n_estimators=200).fit(test_X_train, test_y_train)\n",
    "\n",
    "# explanation for random forest parameter: https://blog.csdn.net/u012102306/article/details/52228516"
   ]
  },
  {
   "cell_type": "code",
   "execution_count": 25,
   "metadata": {},
   "outputs": [
    {
     "data": {
      "text/plain": [
       "<AxesSubplot:xlabel='importance', ylabel='feature'>"
      ]
     },
     "execution_count": 25,
     "metadata": {},
     "output_type": "execute_result"
    },
    {
     "data": {
      "image/png": "[encoded data removed]",
      "text/plain": [
       "<Figure size 720x432 with 1 Axes>"
      ]
     },
     "metadata": {
      "needs_background": "light"
     },
     "output_type": "display_data"
    }
   ],
   "source": [
    "# Extract the feature importances and zip it with the columns into a dataframe# Extrac \n",
    "importances = rf.feature_importances_\n",
    "features = pd.DataFrame({'feature': test_X.columns, 'importance': importances})\n",
    "features.sort_values(by='importance', ascending=False, inplace=True)\n",
    "\n",
    "# Display a horizontal barplot with the feature importances\n",
    "plt.figure(figsize=(10,6))\n",
    "sns.barplot(x=features['importance'], y=features['feature'], color='blue', orient='h')"
   ]
  },
  {
   "cell_type": "code",
   "execution_count": 26,
   "metadata": {},
   "outputs": [
    {
     "name": "stdout",
     "output_type": "stream",
     "text": [
      "Score:     0.9510586637809418\n"
     ]
    }
   ],
   "source": [
    "# Predit the test data\n",
    "predicted_test = rf.predict_proba(test_X_test)[:, -1]\n",
    "\n",
    "# what is predict_proba? -> https://blog.csdn.net/qq_36523839/article/details/80405455?utm_medium=distribute.pc_relevant.none-task-blog-BlogCommendFromBaidu-1.control&depth_1-utm_source=distribute.pc_relevant.none-task-blog-BlogCommendFromBaidu-1.control\n",
    "\n",
    "print ('Score:     {}'.format(roc_auc_score(test_y_test, predicted_test)))\n",
    "# we compare test_y_test with predicted_test and count % that match"
   ]
  },
  {
   "cell_type": "markdown",
   "metadata": {},
   "source": [
    "#### 2. Formal Building Model"
   ]
  },
  {
   "cell_type": "code",
   "execution_count": 27,
   "metadata": {},
   "outputs": [],
   "source": [
    "# Define the X and y data\n",
    "X = processed_df.drop(['count', 'converted'], axis=1)\n",
    "y = processed_df['converted']\n",
    "\n",
    "# Create the dummy variables and remove the original column from the X data\n",
    "# For example, if one original record is from China\n",
    "# then the result would be:     country0 country1 country2 country3\n",
    "#                                  1         0        0       0\n",
    "\n",
    "for col in CATEGORICAL:\n",
    "    group_dummies = pd.get_dummies(X[col]).rename(columns=lambda x: col + str(x))\n",
    "#     print(group_dummies)\n",
    "    X = X.join(group_dummies)\n",
    "    del X[col]\n",
    "#     print(X)\n",
    "\n",
    "# Split the test and training data\n",
    "X_train, X_test, y_train, y_test = train_test_split(X, y, test_size=0.2, random_state=123)"
   ]
  },
  {
   "cell_type": "code",
   "execution_count": 28,
   "metadata": {},
   "outputs": [
    {
     "data": {
      "text/plain": [
       "RandomForestClassifier(n_estimators=200)"
      ]
     },
     "execution_count": 28,
     "metadata": {},
     "output_type": "execute_result"
    }
   ],
   "source": [
    "# Instantiate the RandomForestClassifier with 200 estimators\n",
    "rfclf = RandomForestClassifier(n_estimators=200)\n",
    "\n",
    "rfclf.fit(X_train, y_train)"
   ]
  },
  {
   "cell_type": "code",
   "execution_count": 29,
   "metadata": {},
   "outputs": [
    {
     "name": "stdout",
     "output_type": "stream",
     "text": [
      "Score:     0.9485825442139222\n"
     ]
    }
   ],
   "source": [
    "# Predit the test data\n",
    "predicted_test = rfclf.predict_proba(X_test)[:, -1]\n",
    "\n",
    "print ('Score:     {}'.format(roc_auc_score(y_test, predicted_test)))"
   ]
  },
  {
   "cell_type": "code",
   "execution_count": 30,
   "metadata": {},
   "outputs": [
    {
     "name": "stdout",
     "output_type": "stream",
     "text": [
      "Predicted Conversion Rate: 3.16%\n"
     ]
    }
   ],
   "source": [
    "# Predict the full conversion rate\n",
    "predicted_conv_rate = predicted_test.sum() / len(predicted_test)\n",
    "\n",
    "# print the final result\n",
    "print ('Predicted Conversion Rate: {:.2f}%'.format(predicted_conv_rate * 100))"
   ]
  },
  {
   "cell_type": "markdown",
   "metadata": {},
   "source": [
    "Although the model can reliably predict the whether a user will convert or not, the model relies too heavily on total_pages_visited. \n",
    "#### Since we can't affect the number of pages a user visits, it would be best to build a model without that variable."
   ]
  },
  {
   "cell_type": "code",
   "execution_count": 31,
   "metadata": {},
   "outputs": [],
   "source": [
    "# Define a new X\n",
    "new_X = test_X.drop('total_pages_visited', axis=1)\n",
    "\n",
    "# Split the test and training data\n",
    "X_train, X_test, y_train, y_test = train_test_split(new_X, test_y, test_size=0.2, random_state=123)"
   ]
  },
  {
   "cell_type": "code",
   "execution_count": 32,
   "metadata": {},
   "outputs": [
    {
     "data": {
      "text/plain": [
       "RandomForestClassifier(n_estimators=200)"
      ]
     },
     "execution_count": 32,
     "metadata": {},
     "output_type": "execute_result"
    }
   ],
   "source": [
    "# Instantiate the RandomForestClassifier with 200 estimators\n",
    "rfclf = RandomForestClassifier(n_estimators=200)\n",
    "\n",
    "# Fit the classifier\n",
    "rfclf.fit(X_train, y_train)"
   ]
  },
  {
   "cell_type": "code",
   "execution_count": 33,
   "metadata": {},
   "outputs": [
    {
     "data": {
      "text/plain": [
       "<AxesSubplot:xlabel='importance', ylabel='feature'>"
      ]
     },
     "execution_count": 33,
     "metadata": {},
     "output_type": "execute_result"
    },
    {
     "data": {
      "image/png": "[encoded data removed]",
      "text/plain": [
       "<Figure size 720x432 with 1 Axes>"
      ]
     },
     "metadata": {
      "needs_background": "light"
     },
     "output_type": "display_data"
    }
   ],
   "source": [
    "# Extract the feature importances and zip it with the columns into a dataframe# Extrac \n",
    "importances = rfclf.feature_importances_\n",
    "features = pd.DataFrame({'feature': new_X.columns, 'importance': importances})\n",
    "features.sort_values(by='importance', ascending=False, inplace=True)\n",
    "\n",
    "# Display a horizontal barplot with the feature importances\n",
    "plt.figure(figsize=(10,6))\n",
    "sns.barplot(x=features['importance'], y=features['feature'], color='blue', orient='h')"
   ]
  },
  {
   "cell_type": "code",
   "execution_count": 34,
   "metadata": {},
   "outputs": [
    {
     "name": "stdout",
     "output_type": "stream",
     "text": [
      "Score:     0.8124065405785894\n",
      "Predicted Conversion Rate: 3.22%\n"
     ]
    }
   ],
   "source": [
    "#Predit the test data\n",
    "predicted_test = rfclf.predict_proba(X_test)[:, -1]\n",
    "\n",
    "print ('Score:     {}'.format(roc_auc_score(y_test, predicted_test)))\n",
    "\n",
    "# Predict the full conversion rate\n",
    "predicted_conv_rate = predicted_test.sum() / len(predicted_test)\n",
    "\n",
    "# print the final result\n",
    "print ('Predicted Conversion Rate: {:.2f}%'.format(predicted_conv_rate * 100))"
   ]
  },
  {
   "cell_type": "markdown",
   "metadata": {},
   "source": [
    "Without the total_pages_visited variable, the model relies most on new_user, with source having minimal effect on the model. The new model does perform poorer, but it's still within applicable.\n",
    "\n",
    "Suggestions:\n",
    "\n",
    "- Target younger age groups (there is a negative correlation between age and conversion rates)\n",
    "- Redistribute advertisements or efforts to increase social media presence to address higher performing countries (particularly Germany and UK). Note that US performs around the average conversion rate.\n",
    "- Focus more efforts into users with accounts."
   ]
  },
  {
   "cell_type": "code",
   "execution_count": null,
   "metadata": {},
   "outputs": [],
   "source": []
  }
 ],
 "metadata": {
  "kernelspec": {
   "display_name": "Python 3",
   "language": "python",
   "name": "python3"
  },
  "language_info": {
   "codemirror_mode": {
    "name": "ipython",
    "version": 3
   },
   "file_extension": ".py",
   "mimetype": "text/x-python",
   "name": "python",
   "nbconvert_exporter": "python",
   "pygments_lexer": "ipython3",
   "version": "3.7.3"
  }
 },
 "nbformat": 4,
 "nbformat_minor": 2
}
