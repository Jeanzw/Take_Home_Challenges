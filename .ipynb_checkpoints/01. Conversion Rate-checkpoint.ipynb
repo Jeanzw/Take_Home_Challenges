{
 "cells": [
  {
   "cell_type": "markdown",
   "metadata": {},
   "source": [
    "### Objective:\n",
    "- Evaluate Conversion Rate metric\n",
    "- Build a model that can predict conversion rate\n",
    "- Derive ideas to improve revenue"
   ]
  },
  {
   "cell_type": "markdown",
   "metadata": {},
   "source": [
    "## 1. Data Preparation"
   ]
  },
  {
   "cell_type": "code",
   "execution_count": 1,
   "metadata": {},
   "outputs": [],
   "source": [
    "# Import the necessary libraries\n",
    "\n",
    "# Import pandas and numpy\n",
    "import numpy as np\n",
    "import pandas as pd\n",
    "\n",
    "# Import seaborn and matplotlib  -> graphics\n",
    "import matplotlib.pyplot as plt\n",
    "import seaborn as sns\n",
    "\n",
    "# I will import the necessary sklearn modules later"
   ]
  },
  {
   "cell_type": "code",
   "execution_count": 2,
   "metadata": {},
   "outputs": [],
   "source": [
    "# Import the raw data using read_csv\n",
    "df = pd.read_csv('conversion_data.csv')"
   ]
  },
  {
   "cell_type": "code",
   "execution_count": 3,
   "metadata": {},
   "outputs": [
    {
     "name": "stdout",
     "output_type": "stream",
     "text": [
      "<class 'pandas.core.frame.DataFrame'>\n",
      "RangeIndex: 316200 entries, 0 to 316199\n",
      "Data columns (total 6 columns):\n",
      " #   Column               Non-Null Count   Dtype \n",
      "---  ------               --------------   ----- \n",
      " 0   country              316200 non-null  object\n",
      " 1   age                  316200 non-null  int64 \n",
      " 2   new_user             316200 non-null  int64 \n",
      " 3   source               316200 non-null  object\n",
      " 4   total_pages_visited  316200 non-null  int64 \n",
      " 5   converted            316200 non-null  int64 \n",
      "dtypes: int64(4), object(2)\n",
      "memory usage: 14.5+ MB\n"
     ]
    }
   ],
   "source": [
    "df.info() # check data quality"
   ]
  },
  {
   "cell_type": "markdown",
   "metadata": {},
   "source": [
    "According to the information provided, all columns are categorical data except age and total_pages_visited. Let's start by evaluating the conversion rate: #_conversions / total_sessions.\n",
    "\n",
    "However, before doing so, I need to make sure the values are realisitic in each category."
   ]
  },
  {
   "cell_type": "code",
   "execution_count": 4,
   "metadata": {},
   "outputs": [
    {
     "data": {
      "text/html": [
       "<div>\n",
       "<style scoped>\n",
       "    .dataframe tbody tr th:only-of-type {\n",
       "        vertical-align: middle;\n",
       "    }\n",
       "\n",
       "    .dataframe tbody tr th {\n",
       "        vertical-align: top;\n",
       "    }\n",
       "\n",
       "    .dataframe thead th {\n",
       "        text-align: right;\n",
       "    }\n",
       "</style>\n",
       "<table border=\"1\" class=\"dataframe\">\n",
       "  <thead>\n",
       "    <tr style=\"text-align: right;\">\n",
       "      <th></th>\n",
       "      <th>age</th>\n",
       "      <th>new_user</th>\n",
       "      <th>total_pages_visited</th>\n",
       "      <th>converted</th>\n",
       "    </tr>\n",
       "  </thead>\n",
       "  <tbody>\n",
       "    <tr>\n",
       "      <th>count</th>\n",
       "      <td>316200.000000</td>\n",
       "      <td>316200.000000</td>\n",
       "      <td>316200.000000</td>\n",
       "      <td>316200.000000</td>\n",
       "    </tr>\n",
       "    <tr>\n",
       "      <th>mean</th>\n",
       "      <td>30.569858</td>\n",
       "      <td>0.685465</td>\n",
       "      <td>4.872966</td>\n",
       "      <td>0.032258</td>\n",
       "    </tr>\n",
       "    <tr>\n",
       "      <th>std</th>\n",
       "      <td>8.271802</td>\n",
       "      <td>0.464331</td>\n",
       "      <td>3.341104</td>\n",
       "      <td>0.176685</td>\n",
       "    </tr>\n",
       "    <tr>\n",
       "      <th>min</th>\n",
       "      <td>17.000000</td>\n",
       "      <td>0.000000</td>\n",
       "      <td>1.000000</td>\n",
       "      <td>0.000000</td>\n",
       "    </tr>\n",
       "    <tr>\n",
       "      <th>25%</th>\n",
       "      <td>24.000000</td>\n",
       "      <td>0.000000</td>\n",
       "      <td>2.000000</td>\n",
       "      <td>0.000000</td>\n",
       "    </tr>\n",
       "    <tr>\n",
       "      <th>50%</th>\n",
       "      <td>30.000000</td>\n",
       "      <td>1.000000</td>\n",
       "      <td>4.000000</td>\n",
       "      <td>0.000000</td>\n",
       "    </tr>\n",
       "    <tr>\n",
       "      <th>75%</th>\n",
       "      <td>36.000000</td>\n",
       "      <td>1.000000</td>\n",
       "      <td>7.000000</td>\n",
       "      <td>0.000000</td>\n",
       "    </tr>\n",
       "    <tr>\n",
       "      <th>max</th>\n",
       "      <td>123.000000</td>\n",
       "      <td>1.000000</td>\n",
       "      <td>29.000000</td>\n",
       "      <td>1.000000</td>\n",
       "    </tr>\n",
       "  </tbody>\n",
       "</table>\n",
       "</div>"
      ],
      "text/plain": [
       "                 age       new_user  total_pages_visited      converted\n",
       "count  316200.000000  316200.000000        316200.000000  316200.000000\n",
       "mean       30.569858       0.685465             4.872966       0.032258\n",
       "std         8.271802       0.464331             3.341104       0.176685\n",
       "min        17.000000       0.000000             1.000000       0.000000\n",
       "25%        24.000000       0.000000             2.000000       0.000000\n",
       "50%        30.000000       1.000000             4.000000       0.000000\n",
       "75%        36.000000       1.000000             7.000000       0.000000\n",
       "max       123.000000       1.000000            29.000000       1.000000"
      ]
     },
     "execution_count": 4,
     "metadata": {},
     "output_type": "execute_result"
    }
   ],
   "source": [
    "df.describe()\n",
    "# Use describe to get summary statistics\n",
    "# but here we can only get summary statistics of Dtype = int64"
   ]
  },
  {
   "cell_type": "markdown",
   "metadata": {},
   "source": [
    "max(age) = 123 is really abnormal"
   ]
  },
  {
   "cell_type": "code",
   "execution_count": 5,
   "metadata": {},
   "outputs": [
    {
     "name": "stdout",
     "output_type": "stream",
     "text": [
      "['UK' 'US' 'China' 'Germany']\n",
      "['Ads' 'Seo' 'Direct']\n"
     ]
    }
   ],
   "source": [
    "# So we need to check information of categorical columns\n",
    "# Here we use unique\n",
    "print(df['country'].unique())\n",
    "print(df['source'].unique())"
   ]
  },
  {
   "cell_type": "markdown",
   "metadata": {},
   "source": [
    "#### summary statistics Conclusion:\n",
    "- Despite the max age likely being an anamoly, the remainder of the numerical columns consists of values that are within expectations. \n",
    "- Additionally, the values in the categorical columns are also within expectations."
   ]
  },
  {
   "cell_type": "code",
   "execution_count": 6,
   "metadata": {},
   "outputs": [
    {
     "name": "stdout",
     "output_type": "stream",
     "text": [
      "Total Conversion Rate: 3.23%\n"
     ]
    }
   ],
   "source": [
    "# count convertion rate\n",
    "conversion_rate = df['converted'].sum() / len(df)\n",
    "print ('Total Conversion Rate: {:.2f}%'.format(conversion_rate * 100))   "
   ]
  },
  {
   "cell_type": "markdown",
   "metadata": {},
   "source": [
    "From this point, I'm going to evaluate the conversion rate across values within particular categories. I will provide visualizations for all of them (bar plots from seaborn). By doing so, I hope to isolate values that perform particularly well in terms of conversion rate. I will also take note of the occurrence of each value as that creates a weight to the importance of the value.\n",
    "\n",
    "To ease the calculations later on, I will create a count column filled with 1's to yield the total occurrence of each value."
   ]
  },
  {
   "cell_type": "code",
   "execution_count": 7,
   "metadata": {},
   "outputs": [],
   "source": [
    "# Create a count column filled with 1's\n",
    "# then 1 row represents 1\n",
    "df['count'] = 1"
   ]
  },
  {
   "cell_type": "code",
   "execution_count": 8,
   "metadata": {},
   "outputs": [
    {
     "data": {
      "text/html": [
       "<div>\n",
       "<style scoped>\n",
       "    .dataframe tbody tr th:only-of-type {\n",
       "        vertical-align: middle;\n",
       "    }\n",
       "\n",
       "    .dataframe tbody tr th {\n",
       "        vertical-align: top;\n",
       "    }\n",
       "\n",
       "    .dataframe thead th {\n",
       "        text-align: right;\n",
       "    }\n",
       "</style>\n",
       "<table border=\"1\" class=\"dataframe\">\n",
       "  <thead>\n",
       "    <tr style=\"text-align: right;\">\n",
       "      <th></th>\n",
       "      <th>converted</th>\n",
       "      <th>count</th>\n",
       "      <th>total_percentage</th>\n",
       "      <th>conversion_rate</th>\n",
       "    </tr>\n",
       "    <tr>\n",
       "      <th>age</th>\n",
       "      <th></th>\n",
       "      <th></th>\n",
       "      <th></th>\n",
       "      <th></th>\n",
       "    </tr>\n",
       "  </thead>\n",
       "  <tbody>\n",
       "    <tr>\n",
       "      <th>17</th>\n",
       "      <td>544</td>\n",
       "      <td>7597</td>\n",
       "      <td>0.024026</td>\n",
       "      <td>0.071607</td>\n",
       "    </tr>\n",
       "    <tr>\n",
       "      <th>18</th>\n",
       "      <td>559</td>\n",
       "      <td>8466</td>\n",
       "      <td>0.026774</td>\n",
       "      <td>0.066029</td>\n",
       "    </tr>\n",
       "    <tr>\n",
       "      <th>19</th>\n",
       "      <td>548</td>\n",
       "      <td>9349</td>\n",
       "      <td>0.029567</td>\n",
       "      <td>0.058616</td>\n",
       "    </tr>\n",
       "    <tr>\n",
       "      <th>20</th>\n",
       "      <td>580</td>\n",
       "      <td>10156</td>\n",
       "      <td>0.032119</td>\n",
       "      <td>0.057109</td>\n",
       "    </tr>\n",
       "    <tr>\n",
       "      <th>21</th>\n",
       "      <td>592</td>\n",
       "      <td>10966</td>\n",
       "      <td>0.034681</td>\n",
       "      <td>0.053985</td>\n",
       "    </tr>\n",
       "  </tbody>\n",
       "</table>\n",
       "</div>"
      ],
      "text/plain": [
       "     converted  count  total_percentage  conversion_rate\n",
       "age                                                     \n",
       "17         544   7597          0.024026         0.071607\n",
       "18         559   8466          0.026774         0.066029\n",
       "19         548   9349          0.029567         0.058616\n",
       "20         580  10156          0.032119         0.057109\n",
       "21         592  10966          0.034681         0.053985"
      ]
     },
     "execution_count": 8,
     "metadata": {},
     "output_type": "execute_result"
    }
   ],
   "source": [
    "# Note for create_df\n",
    "new_df = df.groupby('age').agg({'converted':sum,'count':sum})\n",
    "new_df['total_percentage'] = new_df['count']/new_df['count'].sum() \n",
    "# num of each age / total rows -> 7597/316200 = 0.024026\n",
    "new_df['conversion_rate'] = new_df['converted'] / new_df['count']\n",
    "# 544 / 7597 = 0.071607\n",
    "new_df.head(5)\n",
    "# this is explanation of 2 defition below\n",
    "# if cat = age, then we group by age, and count num of converted = 1 and total num"
   ]
  },
  {
   "cell_type": "code",
   "execution_count": 9,
   "metadata": {},
   "outputs": [
    {
     "data": {
      "image/png": "[encoded data removed]",
      "text/plain": [
       "<Figure size 864x576 with 2 Axes>"
      ]
     },
     "metadata": {
      "needs_background": "light"
     },
     "output_type": "display_data"
    }
   ],
   "source": [
    "# Note for create_plots\n",
    "fig, ax = plt.subplots(nrows=2, figsize=(12,8))\n",
    "# nrows=2 -> 2 rows\n",
    "# figsize=(12,8) -> length: 12; width: 8"
   ]
  },
  {
   "cell_type": "code",
   "execution_count": 14,
   "metadata": {},
   "outputs": [],
   "source": [
    "# Define a function create_df that will create a new dataframe with the conversion rate according to the groupings\n",
    "def create_df(cat):\n",
    "    '''Group the data by the [cat]'''\n",
    "    new_df = df.groupby(cat).agg({'converted':sum, 'count':sum})\n",
    "    new_df['total_percentage'] = new_df['count'] / new_df['count'].sum()\n",
    "    #     new_df['count'] / new_df['count'].sum  -> num of this row / total rows\n",
    "    new_df['conversion_rate'] = new_df['converted'] / new_df['count']\n",
    "    #     num of converted of each row / num of count of each row -> for one group, its conversion rate\n",
    "    return new_df\n",
    "\n",
    "# Define a function create_plots to create barplots according to the provided dataframe\n",
    "def create_plots(df):\n",
    "    '''Plot barplots and histograms for conversion rate and ditribution \n",
    "    given the dataframe'''\n",
    "    fig, ax = plt.subplots(nrows=2, figsize=(12,8))\n",
    "    \n",
    "#     plot the distribution -> bar chart\n",
    "    sns.barplot(x=df.index, y='count', data=df, ax=ax[0])\n",
    "    \n",
    "#     plot the conversion rate\n",
    "    sns.barplot(x=df.index, y='conversion_rate', data=df, ax=ax[1])\n",
    "    \n",
    "    plt.tight_layout()"
   ]
  },
  {
   "cell_type": "code",
   "execution_count": 17,
   "metadata": {},
   "outputs": [
    {
     "name": "stdout",
     "output_type": "stream",
     "text": [
      "         converted   count  total_percentage  conversion_rate\n",
      "country                                                      \n",
      "China          102   76602          0.242258         0.001332\n",
      "Germany        816   13056          0.041290         0.062500\n",
      "UK            2550   48450          0.153226         0.052632\n",
      "US            6732  178092          0.563226         0.037801\n"
     ]
    },
    {
     "data": {
      "image/png": "[encoded data removed]",
      "text/plain": [
       "<Figure size 864x576 with 2 Axes>"
      ]
     },
     "metadata": {
      "needs_background": "light"
     },
     "output_type": "display_data"
    }
   ],
   "source": [
    "# create a country dataframe with 2 definition above\n",
    "country_df = create_df('country')\n",
    "\n",
    "print(country_df)\n",
    "\n",
    "# plot the country distribution and conversion rates\n",
    "create_plots(country_df)"
   ]
  },
  {
   "cell_type": "markdown",
   "metadata": {},
   "source": [
    "Despite China's fairly high count (24% of total), it has the lowest conversion rate. It seems that site has very poor performance in China. In comparison, Germany and UK have very high performances, but Germany has a very low occurrence (4% of total)."
   ]
  },
  {
   "cell_type": "code",
   "execution_count": null,
   "metadata": {},
   "outputs": [],
   "source": []
  }
 ],
 "metadata": {
  "kernelspec": {
   "display_name": "Python 3",
   "language": "python",
   "name": "python3"
  },
  "language_info": {
   "codemirror_mode": {
    "name": "ipython",
    "version": 3
   },
   "file_extension": ".py",
   "mimetype": "text/x-python",
   "name": "python",
   "nbconvert_exporter": "python",
   "pygments_lexer": "ipython3",
   "version": "3.7.3"
  }
 },
 "nbformat": 4,
 "nbformat_minor": 2
}
